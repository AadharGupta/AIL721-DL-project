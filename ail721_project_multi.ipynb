{
  "nbformat": 4,
  "nbformat_minor": 0,
  "metadata": {
    "colab": {
      "provenance": []
    },
    "kernelspec": {
      "name": "python3",
      "display_name": "Python 3"
    },
    "language_info": {
      "name": "python"
    }
  },
  "cells": [
    {
      "cell_type": "code",
      "execution_count": null,
      "metadata": {
        "colab": {
          "base_uri": "https://localhost:8080/"
        },
        "id": "9HtQBpQMCmuZ",
        "outputId": "21228d40-7a5c-4782-eeb5-8bb29c517e6a"
      },
      "outputs": [
        {
          "output_type": "stream",
          "name": "stdout",
          "text": [
            "Collecting mne\n",
            "  Downloading mne-1.9.0-py3-none-any.whl.metadata (20 kB)\n",
            "Requirement already satisfied: decorator in /usr/local/lib/python3.11/dist-packages (from mne) (4.4.2)\n",
            "Requirement already satisfied: jinja2 in /usr/local/lib/python3.11/dist-packages (from mne) (3.1.6)\n",
            "Requirement already satisfied: lazy-loader>=0.3 in /usr/local/lib/python3.11/dist-packages (from mne) (0.4)\n",
            "Requirement already satisfied: matplotlib>=3.6 in /usr/local/lib/python3.11/dist-packages (from mne) (3.10.0)\n",
            "Requirement already satisfied: numpy<3,>=1.23 in /usr/local/lib/python3.11/dist-packages (from mne) (2.0.2)\n",
            "Requirement already satisfied: packaging in /usr/local/lib/python3.11/dist-packages (from mne) (24.2)\n",
            "Requirement already satisfied: pooch>=1.5 in /usr/local/lib/python3.11/dist-packages (from mne) (1.8.2)\n",
            "Requirement already satisfied: scipy>=1.9 in /usr/local/lib/python3.11/dist-packages (from mne) (1.14.1)\n",
            "Requirement already satisfied: tqdm in /usr/local/lib/python3.11/dist-packages (from mne) (4.67.1)\n",
            "Requirement already satisfied: contourpy>=1.0.1 in /usr/local/lib/python3.11/dist-packages (from matplotlib>=3.6->mne) (1.3.2)\n",
            "Requirement already satisfied: cycler>=0.10 in /usr/local/lib/python3.11/dist-packages (from matplotlib>=3.6->mne) (0.12.1)\n",
            "Requirement already satisfied: fonttools>=4.22.0 in /usr/local/lib/python3.11/dist-packages (from matplotlib>=3.6->mne) (4.57.0)\n",
            "Requirement already satisfied: kiwisolver>=1.3.1 in /usr/local/lib/python3.11/dist-packages (from matplotlib>=3.6->mne) (1.4.8)\n",
            "Requirement already satisfied: pillow>=8 in /usr/local/lib/python3.11/dist-packages (from matplotlib>=3.6->mne) (11.1.0)\n",
            "Requirement already satisfied: pyparsing>=2.3.1 in /usr/local/lib/python3.11/dist-packages (from matplotlib>=3.6->mne) (3.2.3)\n",
            "Requirement already satisfied: python-dateutil>=2.7 in /usr/local/lib/python3.11/dist-packages (from matplotlib>=3.6->mne) (2.8.2)\n",
            "Requirement already satisfied: platformdirs>=2.5.0 in /usr/local/lib/python3.11/dist-packages (from pooch>=1.5->mne) (4.3.7)\n",
            "Requirement already satisfied: requests>=2.19.0 in /usr/local/lib/python3.11/dist-packages (from pooch>=1.5->mne) (2.32.3)\n",
            "Requirement already satisfied: MarkupSafe>=2.0 in /usr/local/lib/python3.11/dist-packages (from jinja2->mne) (3.0.2)\n",
            "Requirement already satisfied: six>=1.5 in /usr/local/lib/python3.11/dist-packages (from python-dateutil>=2.7->matplotlib>=3.6->mne) (1.17.0)\n",
            "Requirement already satisfied: charset-normalizer<4,>=2 in /usr/local/lib/python3.11/dist-packages (from requests>=2.19.0->pooch>=1.5->mne) (3.4.1)\n",
            "Requirement already satisfied: idna<4,>=2.5 in /usr/local/lib/python3.11/dist-packages (from requests>=2.19.0->pooch>=1.5->mne) (3.10)\n",
            "Requirement already satisfied: urllib3<3,>=1.21.1 in /usr/local/lib/python3.11/dist-packages (from requests>=2.19.0->pooch>=1.5->mne) (2.3.0)\n",
            "Requirement already satisfied: certifi>=2017.4.17 in /usr/local/lib/python3.11/dist-packages (from requests>=2.19.0->pooch>=1.5->mne) (2025.1.31)\n",
            "Downloading mne-1.9.0-py3-none-any.whl (7.4 MB)\n",
            "\u001b[2K   \u001b[90m━━━━━━━━━━━━━━━━━━━━━━━━━━━━━━━━━━━━━━━━\u001b[0m \u001b[32m7.4/7.4 MB\u001b[0m \u001b[31m29.4 MB/s\u001b[0m eta \u001b[36m0:00:00\u001b[0m\n",
            "\u001b[?25hInstalling collected packages: mne\n",
            "Successfully installed mne-1.9.0\n"
          ]
        }
      ],
      "source": [
        "!pip install mne"
      ]
    },
    {
      "cell_type": "code",
      "source": [
        "import numpy as np\n",
        "import tensorflow as tf\n",
        "import mne\n",
        "import matplotlib.pyplot as plt\n",
        "from sklearn.model_selection import train_test_split\n",
        "from sklearn.metrics import confusion_matrix, classification_report\n",
        "\n",
        "# ---------------- CONFIG ----------------\n",
        "SUBJECTS = [1, 2, 3]  # You can expand to more\n",
        "NUM_CLASSES = 6\n",
        "TMIN, TMAX = -0.5, 2.0\n",
        "LOW_FREQ, HIGH_FREQ = 8.0, 35.0\n",
        "BASELINE = (None, 0)\n",
        "MONTAGE = 'standard_1005'\n",
        "EPOCHS = 150\n",
        "BATCH_SIZE = 32\n",
        "LEARNING_RATE = 0.001\n",
        "DROPOUT_RATE = 0.5\n",
        "\n",
        "# ---------------- EEGNET-ATTN MODEL ----------------\n",
        "def build_eegnet_attn(input_shape, num_classes=6, dropout_rate=0.5, l2_rate=1e-4):\n",
        "    inputs = tf.keras.Input(shape=input_shape)\n",
        "\n",
        "    x = tf.keras.layers.Conv2D(16, (1, 64), padding='same', use_bias=False)(inputs)\n",
        "    x = tf.keras.layers.BatchNormalization()(x)\n",
        "    x = tf.keras.layers.DepthwiseConv2D((input_shape[0], 1), depth_multiplier=2, use_bias=False)(x)\n",
        "    x = tf.keras.layers.BatchNormalization()(x)\n",
        "    x = tf.keras.layers.Activation('elu')(x)\n",
        "    x = tf.keras.layers.AveragePooling2D((1, 4))(x)\n",
        "    x = tf.keras.layers.Dropout(dropout_rate)(x)\n",
        "\n",
        "    x = tf.keras.layers.SeparableConv2D(32, (1, 16), padding='same', use_bias=False)(x)\n",
        "    x = tf.keras.layers.BatchNormalization()(x)\n",
        "    x = tf.keras.layers.Activation('elu')(x)\n",
        "    x = tf.keras.layers.AveragePooling2D((1, 8))(x)\n",
        "    x = tf.keras.layers.Dropout(dropout_rate)(x)\n",
        "\n",
        "    avg_pool = tf.keras.layers.GlobalAveragePooling2D()(x)\n",
        "    dense1 = tf.keras.layers.Dense(32, activation='relu')(avg_pool)\n",
        "\n",
        "    attn_weights = tf.keras.layers.Dense(x.shape[-1], activation='sigmoid')(dense1)\n",
        "    attn_weights = tf.keras.layers.Reshape((1, 1, x.shape[-1]))(attn_weights)\n",
        "    x = tf.keras.layers.Multiply()([x, attn_weights])\n",
        "\n",
        "    x = tf.keras.layers.Flatten()(x)\n",
        "    outputs = tf.keras.layers.Dense(num_classes, activation='softmax')(x)\n",
        "\n",
        "    return tf.keras.Model(inputs, outputs)\n",
        "\n",
        "# ---------------- LOAD + LABEL DATA ----------------\n",
        "# ---------------- LOAD + LABEL DATA ----------------\n",
        "def load_data(subjects):\n",
        "    X_all, y_all = [], []\n",
        "    # --- Add a dictionary to track counts per subject ---\n",
        "    subject_class_counts = {s: {c: 0 for c in range(NUM_CLASSES)} for s in subjects}\n",
        "    # ----------------------------------------------------\n",
        "\n",
        "    RUN_CLASS_MAP = {\n",
        "        1: 0, 2: 1,\n",
        "        3: 2, 7: 2, 11: 2,\n",
        "        4: 3, 8: 3, 12: 3,\n",
        "        5: 4, 9: 4, 13: 4,\n",
        "        6: 5, 10: 5, 14: 5\n",
        "    }\n",
        "\n",
        "    for subject in subjects:\n",
        "        print(f\"\\n--- Processing Subject {subject} ---\") # Added for clarity\n",
        "        subject_has_data = False # Flag to check if any data was loaded for the subject\n",
        "        for run, class_id in RUN_CLASS_MAP.items():\n",
        "            try:\n",
        "                # Construct file path manually if necessary, or ensure mne.datasets.eegbci.load_data works\n",
        "                raw_file = mne.datasets.eegbci.load_data(subject, [run])[0]\n",
        "                raw = mne.io.read_raw_edf(raw_file, preload=True, verbose=False) # Suppress verbose loading logs\n",
        "                mne.datasets.eegbci.standardize(raw) # Standardize channel names\n",
        "                raw.set_eeg_reference('average', projection=True) # Apply average reference\n",
        "                raw.apply_proj() # Apply the projector\n",
        "                raw.pick_types(eeg=True) # Keep only EEG channels\n",
        "                raw.set_montage(MONTAGE, on_missing='warn') # Set montage, warn if channels missing\n",
        "                raw.filter(LOW_FREQ, HIGH_FREQ, fir_design='firwin', skip_by_annotation='edge', verbose=False) # Filter data\n",
        "\n",
        "                if run in [1, 2]:  # Baseline runs\n",
        "                    # Use fixed duration events for baseline\n",
        "                    events = mne.make_fixed_length_events(raw, id=class_id + 100, # Use unique IDs > 2 for baseline\n",
        "                                                          start=0, duration=TMAX - TMIN) # Create events for the full duration\n",
        "                    # Define event_id map for baseline runs\n",
        "                    event_dict_baseline = {f'baseline_{run}': class_id + 100}\n",
        "                    epochs = mne.Epochs(raw, events, event_id=event_dict_baseline, tmin=TMIN, tmax=TMAX,\n",
        "                                        baseline=None, preload=True, verbose=False) # No baseline correction for baseline itself\n",
        "                else: # Task runs (3-14)\n",
        "                    # Extract events based on annotations T1 and T2\n",
        "                    events, event_dict_task = mne.events_from_annotations(raw, event_id={'T1': 1, 'T2': 2}, verbose=False)\n",
        "                    if len(events) == 0:\n",
        "                        print(f\"Subject {subject} Run {run}: No T1/T2 events found. Skipping run.\")\n",
        "                        continue\n",
        "                    # Epoching based on T1/T2 events\n",
        "                    epochs = mne.Epochs(raw, events, event_id=event_dict_task, tmin=TMIN, tmax=TMAX,\n",
        "                                        baseline=BASELINE, preload=True, verbose=False) # Apply baseline correction\n",
        "\n",
        "                if len(epochs) == 0:\n",
        "                    print(f\"Subject {subject} Run {run}: No valid epochs created. Skipping run.\")\n",
        "                    continue\n",
        "\n",
        "                X_run = epochs.get_data(units='uV') # Get data as microvolts\n",
        "                X_run = X_run[..., np.newaxis] # Add channel dimension for Conv2D\n",
        "                y_run = np.full((X_run.shape[0],), class_id) # Assign class ID based on RUN_CLASS_MAP\n",
        "\n",
        "                X_all.append(X_run)\n",
        "                y_all.append(y_run)\n",
        "\n",
        "                # --- Update counts for this subject and class ---\n",
        "                subject_class_counts[subject][class_id] += len(epochs)\n",
        "                subject_has_data = True\n",
        "                # -------------------------------------------------\n",
        "                print(f\"✅ Subject {subject} Run {run}: Loaded {len(epochs)} epochs for class {class_id}\")\n",
        "\n",
        "            except Exception as e:\n",
        "                print(f\"⚠️ Subject {subject} Run {run} skipped: {e}\")\n",
        "\n",
        "        if not subject_has_data:\n",
        "             print(f\"🚨 No data loaded for Subject {subject} across all runs.\")\n",
        "\n",
        "    # --- Print the summary counts per subject ---\n",
        "    print(\"\\n--- Epoch Counts Per Subject Per Class ---\")\n",
        "    for subject, counts in subject_class_counts.items():\n",
        "        print(f\"Subject {subject}: {counts}\")\n",
        "    print(\"----------------------------------------\")\n",
        "    # ---------------------------------------------\n",
        "\n",
        "    if not X_all:\n",
        "        raise RuntimeError(\"No valid data loaded across all subjects. Check paths, event IDs, or data integrity.\")\n",
        "\n",
        "    return np.concatenate(X_all), np.concatenate(y_all)\n",
        "\n",
        "# --- Keep the rest of your script as is ---\n",
        "# X, y = load_data(SUBJECTS)\n",
        "# ... etc ...\n",
        "\n",
        "\n",
        "# ---------------- TRAINING + EVAL ----------------\n",
        "X, y = load_data(SUBJECTS)\n",
        "print(f\"Loaded shape: X={X.shape}, y={y.shape} - Label counts: {np.bincount(y)}\")\n",
        "\n",
        "X_train, X_test, y_train, y_test = train_test_split(X, y, stratify=y, test_size=0.2, random_state=42)\n",
        "y_train_oh = tf.keras.utils.to_categorical(y_train, NUM_CLASSES)\n",
        "y_test_oh = tf.keras.utils.to_categorical(y_test, NUM_CLASSES)\n",
        "\n",
        "model = build_eegnet_attn(input_shape=X.shape[1:], num_classes=NUM_CLASSES, dropout_rate=DROPOUT_RATE)\n",
        "model.compile(optimizer=tf.keras.optimizers.Adam(LEARNING_RATE),\n",
        "              loss='categorical_crossentropy',\n",
        "              metrics=['accuracy'])\n",
        "\n",
        "history = model.fit(X_train, y_train_oh,\n",
        "                    validation_data=(X_test, y_test_oh),\n",
        "                    epochs=EPOCHS,\n",
        "                    batch_size=BATCH_SIZE,\n",
        "                    verbose=2)\n",
        "\n",
        "# ---------------- EVALUATE ----------------\n",
        "loss, acc = model.evaluate(X_test, y_test_oh)\n",
        "print(f\"Test Accuracy: {acc:.4f}\")\n",
        "\n",
        "y_pred = model.predict(X_test)\n",
        "y_pred_label = np.argmax(y_pred, axis=1)\n",
        "\n",
        "label_names = [\n",
        "    \"Baseline Open\", \"Baseline Closed\",\n",
        "    \"Real Hands\", \"Imagined Hands\",\n",
        "    \"Real Fists/Feet\", \"Imagined Fists/Feet\"\n",
        "]\n",
        "\n",
        "print(\"\\nClassification Report:\")\n",
        "print(classification_report(y_test, y_pred_label, target_names=label_names, labels=list(range(NUM_CLASSES))))\n",
        "\n",
        "# ---------------- PLOTTING ----------------\n",
        "def plot_history(history):\n",
        "    plt.figure(figsize=(12, 4))\n",
        "    plt.subplot(1, 2, 1)\n",
        "    plt.plot(history.history['accuracy'], label='Train Acc')\n",
        "    plt.plot(history.history['val_accuracy'], label='Val Acc')\n",
        "    plt.title('Accuracy'); plt.legend(); plt.grid()\n",
        "\n",
        "    plt.subplot(1, 2, 2)\n",
        "    plt.plot(history.history['loss'], label='Train Loss')\n",
        "    plt.plot(history.history['val_loss'], label='Val Loss')\n",
        "    plt.title('Loss'); plt.legend(); plt.grid()\n",
        "    plt.tight_layout()\n",
        "    plt.show()\n",
        "\n",
        "def plot_confusion(y_true, y_pred, labels):\n",
        "    cm = confusion_matrix(y_true, y_pred)\n",
        "    plt.imshow(cm, cmap='Blues')\n",
        "    plt.colorbar()\n",
        "    plt.xticks(ticks=np.arange(len(labels)), labels=labels, rotation=45)\n",
        "    plt.yticks(ticks=np.arange(len(labels)), labels=labels)\n",
        "    for i in range(cm.shape[0]):\n",
        "        for j in range(cm.shape[1]):\n",
        "            plt.text(j, i, cm[i, j], ha=\"center\", va=\"center\",\n",
        "                     color=\"white\" if cm[i, j] > cm.max()/2 else \"black\")\n",
        "    plt.title(\"Confusion Matrix\")\n",
        "    plt.tight_layout()\n",
        "    plt.show()\n",
        "\n",
        "plot_history(history)\n",
        "plot_confusion(y_test, y_pred_label, label_names)\n"
      ],
      "metadata": {
        "colab": {
          "base_uri": "https://localhost:8080/",
          "height": 1000
        },
        "id": "n-vAgtgQCyZ1",
        "outputId": "ae32705c-50d1-46e5-f00d-7b998ef00d55"
      },
      "execution_count": 2,
      "outputs": [
        {
          "metadata": {
            "tags": null
          },
          "name": "stdout",
          "output_type": "stream",
          "text": [
            "\n",
            "--- Processing Subject 1 ---\n",
            "Using default location ~/mne_data for EEGBCI...\n",
            "Creating /root/mne_data\n",
            "Downloading EEGBCI data\n"
          ]
        },
        {
          "metadata": {
            "tags": null
          },
          "name": "stderr",
          "output_type": "stream",
          "text": [
            "Downloading file 'S001/S001R01.edf' from 'https://physionet.org/files/eegmmidb/1.0.0/S001/S001R01.edf' to '/root/mne_data/MNE-eegbci-data/files/eegmmidb/1.0.0'.\n"
          ]
        },
        {
          "metadata": {
            "tags": null
          },
          "name": "stdout",
          "output_type": "stream",
          "text": [
            "Attempting to create new mne-python configuration file:\n",
            "/root/.mne/mne-python.json\n",
            "Download complete in 06s (1.2 MB)\n",
            "EEG channel type selected for re-referencing\n",
            "Adding average EEG reference projection.\n",
            "1 projection items deactivated\n",
            "Average reference projection was added, but has not been applied yet. Use the apply_proj method to apply it.\n",
            "Created an SSP operator (subspace dimension = 1)\n",
            "1 projection items activated\n",
            "SSP projectors applied...\n",
            "NOTE: pick_types() is a legacy function. New code should use inst.pick(...).\n",
            "✅ Subject 1 Run 1: Loaded 23 epochs for class 0\n",
            "Downloading EEGBCI data\n"
          ]
        },
        {
          "metadata": {
            "tags": null
          },
          "name": "stderr",
          "output_type": "stream",
          "text": [
            "Downloading file 'S001/S001R02.edf' from 'https://physionet.org/files/eegmmidb/1.0.0/S001/S001R02.edf' to '/root/mne_data/MNE-eegbci-data/files/eegmmidb/1.0.0'.\n"
          ]
        },
        {
          "metadata": {
            "tags": null
          },
          "name": "stdout",
          "output_type": "stream",
          "text": [
            "Download complete in 04s (1.2 MB)\n",
            "EEG channel type selected for re-referencing\n",
            "Adding average EEG reference projection.\n",
            "1 projection items deactivated\n",
            "Average reference projection was added, but has not been applied yet. Use the apply_proj method to apply it.\n",
            "Created an SSP operator (subspace dimension = 1)\n",
            "1 projection items activated\n",
            "SSP projectors applied...\n",
            "NOTE: pick_types() is a legacy function. New code should use inst.pick(...).\n",
            "✅ Subject 1 Run 2: Loaded 23 epochs for class 1\n",
            "Downloading EEGBCI data\n"
          ]
        },
        {
          "metadata": {
            "tags": null
          },
          "name": "stderr",
          "output_type": "stream",
          "text": [
            "Downloading file 'S001/S001R03.edf' from 'https://physionet.org/files/eegmmidb/1.0.0/S001/S001R03.edf' to '/root/mne_data/MNE-eegbci-data/files/eegmmidb/1.0.0'.\n"
          ]
        },
        {
          "metadata": {
            "tags": null
          },
          "name": "stdout",
          "output_type": "stream",
          "text": [
            "Download complete in 08s (2.5 MB)\n",
            "EEG channel type selected for re-referencing\n",
            "Adding average EEG reference projection.\n",
            "1 projection items deactivated\n",
            "Average reference projection was added, but has not been applied yet. Use the apply_proj method to apply it.\n",
            "Created an SSP operator (subspace dimension = 1)\n",
            "1 projection items activated\n",
            "SSP projectors applied...\n",
            "NOTE: pick_types() is a legacy function. New code should use inst.pick(...).\n",
            "✅ Subject 1 Run 3: Loaded 15 epochs for class 2\n",
            "Downloading EEGBCI data\n"
          ]
        },
        {
          "metadata": {
            "tags": null
          },
          "name": "stderr",
          "output_type": "stream",
          "text": [
            "Downloading file 'S001/S001R07.edf' from 'https://physionet.org/files/eegmmidb/1.0.0/S001/S001R07.edf' to '/root/mne_data/MNE-eegbci-data/files/eegmmidb/1.0.0'.\n"
          ]
        },
        {
          "metadata": {
            "tags": null
          },
          "name": "stdout",
          "output_type": "stream",
          "text": [
            "Download complete in 07s (2.5 MB)\n",
            "EEG channel type selected for re-referencing\n",
            "Adding average EEG reference projection.\n",
            "1 projection items deactivated\n",
            "Average reference projection was added, but has not been applied yet. Use the apply_proj method to apply it.\n",
            "Created an SSP operator (subspace dimension = 1)\n",
            "1 projection items activated\n",
            "SSP projectors applied...\n",
            "NOTE: pick_types() is a legacy function. New code should use inst.pick(...).\n",
            "✅ Subject 1 Run 7: Loaded 15 epochs for class 2\n",
            "Downloading EEGBCI data\n"
          ]
        },
        {
          "metadata": {
            "tags": null
          },
          "name": "stderr",
          "output_type": "stream",
          "text": [
            "Downloading file 'S001/S001R11.edf' from 'https://physionet.org/files/eegmmidb/1.0.0/S001/S001R11.edf' to '/root/mne_data/MNE-eegbci-data/files/eegmmidb/1.0.0'.\n"
          ]
        },
        {
          "metadata": {
            "tags": null
          },
          "name": "stdout",
          "output_type": "stream",
          "text": [
            "Download complete in 07s (2.5 MB)\n",
            "EEG channel type selected for re-referencing\n",
            "Adding average EEG reference projection.\n",
            "1 projection items deactivated\n",
            "Average reference projection was added, but has not been applied yet. Use the apply_proj method to apply it.\n",
            "Created an SSP operator (subspace dimension = 1)\n",
            "1 projection items activated\n",
            "SSP projectors applied...\n",
            "NOTE: pick_types() is a legacy function. New code should use inst.pick(...).\n",
            "✅ Subject 1 Run 11: Loaded 15 epochs for class 2\n",
            "Downloading EEGBCI data\n"
          ]
        },
        {
          "metadata": {
            "tags": null
          },
          "name": "stderr",
          "output_type": "stream",
          "text": [
            "Downloading file 'S001/S001R04.edf' from 'https://physionet.org/files/eegmmidb/1.0.0/S001/S001R04.edf' to '/root/mne_data/MNE-eegbci-data/files/eegmmidb/1.0.0'.\n"
          ]
        },
        {
          "metadata": {
            "tags": null
          },
          "name": "stdout",
          "output_type": "stream",
          "text": [
            "Download complete in 08s (2.5 MB)\n",
            "EEG channel type selected for re-referencing\n",
            "Adding average EEG reference projection.\n",
            "1 projection items deactivated\n",
            "Average reference projection was added, but has not been applied yet. Use the apply_proj method to apply it.\n",
            "Created an SSP operator (subspace dimension = 1)\n",
            "1 projection items activated\n",
            "SSP projectors applied...\n",
            "NOTE: pick_types() is a legacy function. New code should use inst.pick(...).\n",
            "✅ Subject 1 Run 4: Loaded 15 epochs for class 3\n",
            "Downloading EEGBCI data\n"
          ]
        },
        {
          "metadata": {
            "tags": null
          },
          "name": "stderr",
          "output_type": "stream",
          "text": [
            "Downloading file 'S001/S001R08.edf' from 'https://physionet.org/files/eegmmidb/1.0.0/S001/S001R08.edf' to '/root/mne_data/MNE-eegbci-data/files/eegmmidb/1.0.0'.\n"
          ]
        },
        {
          "metadata": {
            "tags": null
          },
          "name": "stdout",
          "output_type": "stream",
          "text": [
            "Download complete in 07s (2.5 MB)\n",
            "EEG channel type selected for re-referencing\n",
            "Adding average EEG reference projection.\n",
            "1 projection items deactivated\n",
            "Average reference projection was added, but has not been applied yet. Use the apply_proj method to apply it.\n",
            "Created an SSP operator (subspace dimension = 1)\n",
            "1 projection items activated\n",
            "SSP projectors applied...\n",
            "NOTE: pick_types() is a legacy function. New code should use inst.pick(...).\n",
            "✅ Subject 1 Run 8: Loaded 15 epochs for class 3\n",
            "Downloading EEGBCI data\n"
          ]
        },
        {
          "metadata": {
            "tags": null
          },
          "name": "stderr",
          "output_type": "stream",
          "text": [
            "Downloading file 'S001/S001R12.edf' from 'https://physionet.org/files/eegmmidb/1.0.0/S001/S001R12.edf' to '/root/mne_data/MNE-eegbci-data/files/eegmmidb/1.0.0'.\n"
          ]
        },
        {
          "metadata": {
            "tags": null
          },
          "name": "stdout",
          "output_type": "stream",
          "text": [
            "Download complete in 07s (2.5 MB)\n",
            "EEG channel type selected for re-referencing\n",
            "Adding average EEG reference projection.\n",
            "1 projection items deactivated\n",
            "Average reference projection was added, but has not been applied yet. Use the apply_proj method to apply it.\n",
            "Created an SSP operator (subspace dimension = 1)\n",
            "1 projection items activated\n",
            "SSP projectors applied...\n",
            "NOTE: pick_types() is a legacy function. New code should use inst.pick(...).\n",
            "✅ Subject 1 Run 12: Loaded 15 epochs for class 3\n",
            "Downloading EEGBCI data\n"
          ]
        },
        {
          "metadata": {
            "tags": null
          },
          "name": "stderr",
          "output_type": "stream",
          "text": [
            "Downloading file 'S001/S001R05.edf' from 'https://physionet.org/files/eegmmidb/1.0.0/S001/S001R05.edf' to '/root/mne_data/MNE-eegbci-data/files/eegmmidb/1.0.0'.\n"
          ]
        },
        {
          "metadata": {
            "tags": null
          },
          "name": "stdout",
          "output_type": "stream",
          "text": [
            "Download complete in 07s (2.5 MB)\n",
            "EEG channel type selected for re-referencing\n",
            "Adding average EEG reference projection.\n",
            "1 projection items deactivated\n",
            "Average reference projection was added, but has not been applied yet. Use the apply_proj method to apply it.\n",
            "Created an SSP operator (subspace dimension = 1)\n",
            "1 projection items activated\n",
            "SSP projectors applied...\n",
            "NOTE: pick_types() is a legacy function. New code should use inst.pick(...).\n",
            "✅ Subject 1 Run 5: Loaded 15 epochs for class 4\n",
            "Downloading EEGBCI data\n"
          ]
        },
        {
          "metadata": {
            "tags": null
          },
          "name": "stderr",
          "output_type": "stream",
          "text": [
            "Downloading file 'S001/S001R09.edf' from 'https://physionet.org/files/eegmmidb/1.0.0/S001/S001R09.edf' to '/root/mne_data/MNE-eegbci-data/files/eegmmidb/1.0.0'.\n"
          ]
        },
        {
          "metadata": {
            "tags": null
          },
          "name": "stdout",
          "output_type": "stream",
          "text": [
            "Download complete in 07s (2.5 MB)\n",
            "EEG channel type selected for re-referencing\n",
            "Adding average EEG reference projection.\n",
            "1 projection items deactivated\n",
            "Average reference projection was added, but has not been applied yet. Use the apply_proj method to apply it.\n",
            "Created an SSP operator (subspace dimension = 1)\n",
            "1 projection items activated\n",
            "SSP projectors applied...\n",
            "NOTE: pick_types() is a legacy function. New code should use inst.pick(...).\n",
            "✅ Subject 1 Run 9: Loaded 15 epochs for class 4\n",
            "Downloading EEGBCI data\n"
          ]
        },
        {
          "metadata": {
            "tags": null
          },
          "name": "stderr",
          "output_type": "stream",
          "text": [
            "Downloading file 'S001/S001R13.edf' from 'https://physionet.org/files/eegmmidb/1.0.0/S001/S001R13.edf' to '/root/mne_data/MNE-eegbci-data/files/eegmmidb/1.0.0'.\n"
          ]
        },
        {
          "metadata": {
            "tags": null
          },
          "name": "stdout",
          "output_type": "stream",
          "text": [
            "Download complete in 07s (2.5 MB)\n",
            "EEG channel type selected for re-referencing\n",
            "Adding average EEG reference projection.\n",
            "1 projection items deactivated\n",
            "Average reference projection was added, but has not been applied yet. Use the apply_proj method to apply it.\n",
            "Created an SSP operator (subspace dimension = 1)\n",
            "1 projection items activated\n",
            "SSP projectors applied...\n",
            "NOTE: pick_types() is a legacy function. New code should use inst.pick(...).\n",
            "✅ Subject 1 Run 13: Loaded 15 epochs for class 4\n",
            "Downloading EEGBCI data\n"
          ]
        },
        {
          "metadata": {
            "tags": null
          },
          "name": "stderr",
          "output_type": "stream",
          "text": [
            "Downloading file 'S001/S001R06.edf' from 'https://physionet.org/files/eegmmidb/1.0.0/S001/S001R06.edf' to '/root/mne_data/MNE-eegbci-data/files/eegmmidb/1.0.0'.\n"
          ]
        },
        {
          "metadata": {
            "tags": null
          },
          "name": "stdout",
          "output_type": "stream",
          "text": [
            "Download complete in 07s (2.5 MB)\n",
            "EEG channel type selected for re-referencing\n",
            "Adding average EEG reference projection.\n",
            "1 projection items deactivated\n",
            "Average reference projection was added, but has not been applied yet. Use the apply_proj method to apply it.\n",
            "Created an SSP operator (subspace dimension = 1)\n",
            "1 projection items activated\n",
            "SSP projectors applied...\n",
            "NOTE: pick_types() is a legacy function. New code should use inst.pick(...).\n",
            "✅ Subject 1 Run 6: Loaded 15 epochs for class 5\n",
            "Downloading EEGBCI data\n"
          ]
        },
        {
          "metadata": {
            "tags": null
          },
          "name": "stderr",
          "output_type": "stream",
          "text": [
            "Downloading file 'S001/S001R10.edf' from 'https://physionet.org/files/eegmmidb/1.0.0/S001/S001R10.edf' to '/root/mne_data/MNE-eegbci-data/files/eegmmidb/1.0.0'.\n"
          ]
        },
        {
          "metadata": {
            "tags": null
          },
          "name": "stdout",
          "output_type": "stream",
          "text": [
            "Download complete in 07s (2.5 MB)\n",
            "EEG channel type selected for re-referencing\n",
            "Adding average EEG reference projection.\n",
            "1 projection items deactivated\n",
            "Average reference projection was added, but has not been applied yet. Use the apply_proj method to apply it.\n",
            "Created an SSP operator (subspace dimension = 1)\n",
            "1 projection items activated\n",
            "SSP projectors applied...\n",
            "NOTE: pick_types() is a legacy function. New code should use inst.pick(...).\n",
            "✅ Subject 1 Run 10: Loaded 15 epochs for class 5\n",
            "Downloading EEGBCI data\n"
          ]
        },
        {
          "metadata": {
            "tags": null
          },
          "name": "stderr",
          "output_type": "stream",
          "text": [
            "Downloading file 'S001/S001R14.edf' from 'https://physionet.org/files/eegmmidb/1.0.0/S001/S001R14.edf' to '/root/mne_data/MNE-eegbci-data/files/eegmmidb/1.0.0'.\n"
          ]
        },
        {
          "metadata": {
            "tags": null
          },
          "name": "stdout",
          "output_type": "stream",
          "text": [
            "Download complete in 07s (2.5 MB)\n",
            "EEG channel type selected for re-referencing\n",
            "Adding average EEG reference projection.\n",
            "1 projection items deactivated\n",
            "Average reference projection was added, but has not been applied yet. Use the apply_proj method to apply it.\n",
            "Created an SSP operator (subspace dimension = 1)\n",
            "1 projection items activated\n",
            "SSP projectors applied...\n",
            "NOTE: pick_types() is a legacy function. New code should use inst.pick(...).\n",
            "✅ Subject 1 Run 14: Loaded 15 epochs for class 5\n",
            "\n",
            "--- Processing Subject 2 ---\n",
            "Downloading EEGBCI data\n"
          ]
        },
        {
          "metadata": {
            "tags": null
          },
          "name": "stderr",
          "output_type": "stream",
          "text": [
            "Downloading file 'S002/S002R01.edf' from 'https://physionet.org/files/eegmmidb/1.0.0/S002/S002R01.edf' to '/root/mne_data/MNE-eegbci-data/files/eegmmidb/1.0.0'.\n"
          ]
        },
        {
          "metadata": {
            "tags": null
          },
          "name": "stdout",
          "output_type": "stream",
          "text": [
            "Download complete in 03s (1.2 MB)\n",
            "EEG channel type selected for re-referencing\n",
            "Adding average EEG reference projection.\n",
            "1 projection items deactivated\n",
            "Average reference projection was added, but has not been applied yet. Use the apply_proj method to apply it.\n",
            "Created an SSP operator (subspace dimension = 1)\n",
            "1 projection items activated\n",
            "SSP projectors applied...\n",
            "NOTE: pick_types() is a legacy function. New code should use inst.pick(...).\n",
            "✅ Subject 2 Run 1: Loaded 23 epochs for class 0\n",
            "Downloading EEGBCI data\n"
          ]
        },
        {
          "metadata": {
            "tags": null
          },
          "name": "stderr",
          "output_type": "stream",
          "text": [
            "Downloading file 'S002/S002R02.edf' from 'https://physionet.org/files/eegmmidb/1.0.0/S002/S002R02.edf' to '/root/mne_data/MNE-eegbci-data/files/eegmmidb/1.0.0'.\n"
          ]
        },
        {
          "metadata": {
            "tags": null
          },
          "name": "stdout",
          "output_type": "stream",
          "text": [
            "Download complete in 03s (1.2 MB)\n",
            "EEG channel type selected for re-referencing\n",
            "Adding average EEG reference projection.\n",
            "1 projection items deactivated\n",
            "Average reference projection was added, but has not been applied yet. Use the apply_proj method to apply it.\n",
            "Created an SSP operator (subspace dimension = 1)\n",
            "1 projection items activated\n",
            "SSP projectors applied...\n",
            "NOTE: pick_types() is a legacy function. New code should use inst.pick(...).\n",
            "✅ Subject 2 Run 2: Loaded 23 epochs for class 1\n",
            "Downloading EEGBCI data\n"
          ]
        },
        {
          "metadata": {
            "tags": null
          },
          "name": "stderr",
          "output_type": "stream",
          "text": [
            "Downloading file 'S002/S002R03.edf' from 'https://physionet.org/files/eegmmidb/1.0.0/S002/S002R03.edf' to '/root/mne_data/MNE-eegbci-data/files/eegmmidb/1.0.0'.\n"
          ]
        },
        {
          "metadata": {
            "tags": null
          },
          "name": "stdout",
          "output_type": "stream",
          "text": [
            "Download complete in 07s (2.4 MB)\n",
            "EEG channel type selected for re-referencing\n",
            "Adding average EEG reference projection.\n",
            "1 projection items deactivated\n",
            "Average reference projection was added, but has not been applied yet. Use the apply_proj method to apply it.\n",
            "Created an SSP operator (subspace dimension = 1)\n",
            "1 projection items activated\n",
            "SSP projectors applied...\n",
            "NOTE: pick_types() is a legacy function. New code should use inst.pick(...).\n",
            "✅ Subject 2 Run 3: Loaded 15 epochs for class 2\n",
            "Downloading EEGBCI data\n"
          ]
        },
        {
          "metadata": {
            "tags": null
          },
          "name": "stderr",
          "output_type": "stream",
          "text": [
            "Downloading file 'S002/S002R07.edf' from 'https://physionet.org/files/eegmmidb/1.0.0/S002/S002R07.edf' to '/root/mne_data/MNE-eegbci-data/files/eegmmidb/1.0.0'.\n"
          ]
        },
        {
          "metadata": {
            "tags": null
          },
          "name": "stdout",
          "output_type": "stream",
          "text": [
            "Download complete in 07s (2.4 MB)\n",
            "EEG channel type selected for re-referencing\n",
            "Adding average EEG reference projection.\n",
            "1 projection items deactivated\n",
            "Average reference projection was added, but has not been applied yet. Use the apply_proj method to apply it.\n",
            "Created an SSP operator (subspace dimension = 1)\n",
            "1 projection items activated\n",
            "SSP projectors applied...\n",
            "NOTE: pick_types() is a legacy function. New code should use inst.pick(...).\n",
            "✅ Subject 2 Run 7: Loaded 15 epochs for class 2\n",
            "Downloading EEGBCI data\n"
          ]
        },
        {
          "metadata": {
            "tags": null
          },
          "name": "stderr",
          "output_type": "stream",
          "text": [
            "Downloading file 'S002/S002R11.edf' from 'https://physionet.org/files/eegmmidb/1.0.0/S002/S002R11.edf' to '/root/mne_data/MNE-eegbci-data/files/eegmmidb/1.0.0'.\n"
          ]
        },
        {
          "metadata": {
            "tags": null
          },
          "name": "stdout",
          "output_type": "stream",
          "text": [
            "Download complete in 07s (2.4 MB)\n",
            "EEG channel type selected for re-referencing\n",
            "Adding average EEG reference projection.\n",
            "1 projection items deactivated\n",
            "Average reference projection was added, but has not been applied yet. Use the apply_proj method to apply it.\n",
            "Created an SSP operator (subspace dimension = 1)\n",
            "1 projection items activated\n",
            "SSP projectors applied...\n",
            "NOTE: pick_types() is a legacy function. New code should use inst.pick(...).\n",
            "✅ Subject 2 Run 11: Loaded 15 epochs for class 2\n",
            "Downloading EEGBCI data\n"
          ]
        },
        {
          "metadata": {
            "tags": null
          },
          "name": "stderr",
          "output_type": "stream",
          "text": [
            "Downloading file 'S002/S002R04.edf' from 'https://physionet.org/files/eegmmidb/1.0.0/S002/S002R04.edf' to '/root/mne_data/MNE-eegbci-data/files/eegmmidb/1.0.0'.\n"
          ]
        },
        {
          "metadata": {
            "tags": null
          },
          "name": "stdout",
          "output_type": "stream",
          "text": [
            "Download complete in 07s (2.4 MB)\n",
            "EEG channel type selected for re-referencing\n",
            "Adding average EEG reference projection.\n",
            "1 projection items deactivated\n",
            "Average reference projection was added, but has not been applied yet. Use the apply_proj method to apply it.\n",
            "Created an SSP operator (subspace dimension = 1)\n",
            "1 projection items activated\n",
            "SSP projectors applied...\n",
            "NOTE: pick_types() is a legacy function. New code should use inst.pick(...).\n",
            "✅ Subject 2 Run 4: Loaded 15 epochs for class 3\n",
            "Downloading EEGBCI data\n"
          ]
        },
        {
          "metadata": {
            "tags": null
          },
          "name": "stderr",
          "output_type": "stream",
          "text": [
            "Downloading file 'S002/S002R08.edf' from 'https://physionet.org/files/eegmmidb/1.0.0/S002/S002R08.edf' to '/root/mne_data/MNE-eegbci-data/files/eegmmidb/1.0.0'.\n"
          ]
        },
        {
          "metadata": {
            "tags": null
          },
          "name": "stdout",
          "output_type": "stream",
          "text": [
            "Download complete in 08s (2.4 MB)\n",
            "EEG channel type selected for re-referencing\n",
            "Adding average EEG reference projection.\n",
            "1 projection items deactivated\n",
            "Average reference projection was added, but has not been applied yet. Use the apply_proj method to apply it.\n",
            "Created an SSP operator (subspace dimension = 1)\n",
            "1 projection items activated\n",
            "SSP projectors applied...\n",
            "NOTE: pick_types() is a legacy function. New code should use inst.pick(...).\n",
            "✅ Subject 2 Run 8: Loaded 15 epochs for class 3\n",
            "Downloading EEGBCI data\n"
          ]
        },
        {
          "metadata": {
            "tags": null
          },
          "name": "stderr",
          "output_type": "stream",
          "text": [
            "Downloading file 'S002/S002R12.edf' from 'https://physionet.org/files/eegmmidb/1.0.0/S002/S002R12.edf' to '/root/mne_data/MNE-eegbci-data/files/eegmmidb/1.0.0'.\n"
          ]
        },
        {
          "metadata": {
            "tags": null
          },
          "name": "stdout",
          "output_type": "stream",
          "text": [
            "Download complete in 07s (2.4 MB)\n",
            "EEG channel type selected for re-referencing\n",
            "Adding average EEG reference projection.\n",
            "1 projection items deactivated\n",
            "Average reference projection was added, but has not been applied yet. Use the apply_proj method to apply it.\n",
            "Created an SSP operator (subspace dimension = 1)\n",
            "1 projection items activated\n",
            "SSP projectors applied...\n",
            "NOTE: pick_types() is a legacy function. New code should use inst.pick(...).\n",
            "✅ Subject 2 Run 12: Loaded 15 epochs for class 3\n",
            "Downloading EEGBCI data\n"
          ]
        },
        {
          "metadata": {
            "tags": null
          },
          "name": "stderr",
          "output_type": "stream",
          "text": [
            "Downloading file 'S002/S002R05.edf' from 'https://physionet.org/files/eegmmidb/1.0.0/S002/S002R05.edf' to '/root/mne_data/MNE-eegbci-data/files/eegmmidb/1.0.0'.\n"
          ]
        },
        {
          "metadata": {
            "tags": null
          },
          "name": "stdout",
          "output_type": "stream",
          "text": [
            "Download complete in 07s (2.4 MB)\n",
            "EEG channel type selected for re-referencing\n",
            "Adding average EEG reference projection.\n",
            "1 projection items deactivated\n",
            "Average reference projection was added, but has not been applied yet. Use the apply_proj method to apply it.\n",
            "Created an SSP operator (subspace dimension = 1)\n",
            "1 projection items activated\n",
            "SSP projectors applied...\n",
            "NOTE: pick_types() is a legacy function. New code should use inst.pick(...).\n",
            "✅ Subject 2 Run 5: Loaded 15 epochs for class 4\n",
            "Downloading EEGBCI data\n"
          ]
        },
        {
          "metadata": {
            "tags": null
          },
          "name": "stderr",
          "output_type": "stream",
          "text": [
            "Downloading file 'S002/S002R09.edf' from 'https://physionet.org/files/eegmmidb/1.0.0/S002/S002R09.edf' to '/root/mne_data/MNE-eegbci-data/files/eegmmidb/1.0.0'.\n"
          ]
        },
        {
          "metadata": {
            "tags": null
          },
          "name": "stdout",
          "output_type": "stream",
          "text": [
            "Download complete in 07s (2.4 MB)\n",
            "EEG channel type selected for re-referencing\n",
            "Adding average EEG reference projection.\n",
            "1 projection items deactivated\n",
            "Average reference projection was added, but has not been applied yet. Use the apply_proj method to apply it.\n",
            "Created an SSP operator (subspace dimension = 1)\n",
            "1 projection items activated\n",
            "SSP projectors applied...\n",
            "NOTE: pick_types() is a legacy function. New code should use inst.pick(...).\n",
            "✅ Subject 2 Run 9: Loaded 15 epochs for class 4\n",
            "Downloading EEGBCI data\n"
          ]
        },
        {
          "metadata": {
            "tags": null
          },
          "name": "stderr",
          "output_type": "stream",
          "text": [
            "Downloading file 'S002/S002R13.edf' from 'https://physionet.org/files/eegmmidb/1.0.0/S002/S002R13.edf' to '/root/mne_data/MNE-eegbci-data/files/eegmmidb/1.0.0'.\n"
          ]
        },
        {
          "metadata": {
            "tags": null
          },
          "name": "stdout",
          "output_type": "stream",
          "text": [
            "Download complete in 07s (2.4 MB)\n",
            "EEG channel type selected for re-referencing\n",
            "Adding average EEG reference projection.\n",
            "1 projection items deactivated\n",
            "Average reference projection was added, but has not been applied yet. Use the apply_proj method to apply it.\n",
            "Created an SSP operator (subspace dimension = 1)\n",
            "1 projection items activated\n",
            "SSP projectors applied...\n",
            "NOTE: pick_types() is a legacy function. New code should use inst.pick(...).\n",
            "✅ Subject 2 Run 13: Loaded 15 epochs for class 4\n",
            "Downloading EEGBCI data\n"
          ]
        },
        {
          "metadata": {
            "tags": null
          },
          "name": "stderr",
          "output_type": "stream",
          "text": [
            "Downloading file 'S002/S002R06.edf' from 'https://physionet.org/files/eegmmidb/1.0.0/S002/S002R06.edf' to '/root/mne_data/MNE-eegbci-data/files/eegmmidb/1.0.0'.\n"
          ]
        },
        {
          "metadata": {
            "tags": null
          },
          "name": "stdout",
          "output_type": "stream",
          "text": [
            "Download complete in 07s (2.4 MB)\n",
            "EEG channel type selected for re-referencing\n",
            "Adding average EEG reference projection.\n",
            "1 projection items deactivated\n",
            "Average reference projection was added, but has not been applied yet. Use the apply_proj method to apply it.\n",
            "Created an SSP operator (subspace dimension = 1)\n",
            "1 projection items activated\n",
            "SSP projectors applied...\n",
            "NOTE: pick_types() is a legacy function. New code should use inst.pick(...).\n",
            "✅ Subject 2 Run 6: Loaded 15 epochs for class 5\n",
            "Downloading EEGBCI data\n"
          ]
        },
        {
          "metadata": {
            "tags": null
          },
          "name": "stderr",
          "output_type": "stream",
          "text": [
            "Downloading file 'S002/S002R10.edf' from 'https://physionet.org/files/eegmmidb/1.0.0/S002/S002R10.edf' to '/root/mne_data/MNE-eegbci-data/files/eegmmidb/1.0.0'.\n"
          ]
        },
        {
          "metadata": {
            "tags": null
          },
          "name": "stdout",
          "output_type": "stream",
          "text": [
            "Download complete in 07s (2.4 MB)\n",
            "EEG channel type selected for re-referencing\n",
            "Adding average EEG reference projection.\n",
            "1 projection items deactivated\n",
            "Average reference projection was added, but has not been applied yet. Use the apply_proj method to apply it.\n",
            "Created an SSP operator (subspace dimension = 1)\n",
            "1 projection items activated\n",
            "SSP projectors applied...\n",
            "NOTE: pick_types() is a legacy function. New code should use inst.pick(...).\n",
            "✅ Subject 2 Run 10: Loaded 15 epochs for class 5\n",
            "Downloading EEGBCI data\n"
          ]
        },
        {
          "metadata": {
            "tags": null
          },
          "name": "stderr",
          "output_type": "stream",
          "text": [
            "Downloading file 'S002/S002R14.edf' from 'https://physionet.org/files/eegmmidb/1.0.0/S002/S002R14.edf' to '/root/mne_data/MNE-eegbci-data/files/eegmmidb/1.0.0'.\n"
          ]
        },
        {
          "metadata": {
            "tags": null
          },
          "name": "stdout",
          "output_type": "stream",
          "text": [
            "Download complete in 07s (2.4 MB)\n",
            "EEG channel type selected for re-referencing\n",
            "Adding average EEG reference projection.\n",
            "1 projection items deactivated\n",
            "Average reference projection was added, but has not been applied yet. Use the apply_proj method to apply it.\n",
            "Created an SSP operator (subspace dimension = 1)\n",
            "1 projection items activated\n",
            "SSP projectors applied...\n",
            "NOTE: pick_types() is a legacy function. New code should use inst.pick(...).\n",
            "✅ Subject 2 Run 14: Loaded 15 epochs for class 5\n",
            "\n",
            "--- Processing Subject 3 ---\n",
            "Downloading EEGBCI data\n"
          ]
        },
        {
          "metadata": {
            "tags": null
          },
          "name": "stderr",
          "output_type": "stream",
          "text": [
            "Downloading file 'S003/S003R01.edf' from 'https://physionet.org/files/eegmmidb/1.0.0/S003/S003R01.edf' to '/root/mne_data/MNE-eegbci-data/files/eegmmidb/1.0.0'.\n"
          ]
        },
        {
          "metadata": {
            "tags": null
          },
          "name": "stdout",
          "output_type": "stream",
          "text": [
            "Download complete in 03s (1.2 MB)\n",
            "EEG channel type selected for re-referencing\n",
            "Adding average EEG reference projection.\n",
            "1 projection items deactivated\n",
            "Average reference projection was added, but has not been applied yet. Use the apply_proj method to apply it.\n",
            "Created an SSP operator (subspace dimension = 1)\n",
            "1 projection items activated\n",
            "SSP projectors applied...\n",
            "NOTE: pick_types() is a legacy function. New code should use inst.pick(...).\n",
            "✅ Subject 3 Run 1: Loaded 23 epochs for class 0\n",
            "Downloading EEGBCI data\n"
          ]
        },
        {
          "metadata": {
            "tags": null
          },
          "name": "stderr",
          "output_type": "stream",
          "text": [
            "Downloading file 'S003/S003R02.edf' from 'https://physionet.org/files/eegmmidb/1.0.0/S003/S003R02.edf' to '/root/mne_data/MNE-eegbci-data/files/eegmmidb/1.0.0'.\n"
          ]
        },
        {
          "metadata": {
            "tags": null
          },
          "name": "stdout",
          "output_type": "stream",
          "text": [
            "Download complete in 03s (1.2 MB)\n",
            "EEG channel type selected for re-referencing\n",
            "Adding average EEG reference projection.\n",
            "1 projection items deactivated\n",
            "Average reference projection was added, but has not been applied yet. Use the apply_proj method to apply it.\n",
            "Created an SSP operator (subspace dimension = 1)\n",
            "1 projection items activated\n",
            "SSP projectors applied...\n",
            "NOTE: pick_types() is a legacy function. New code should use inst.pick(...).\n",
            "✅ Subject 3 Run 2: Loaded 23 epochs for class 1\n",
            "Downloading EEGBCI data\n"
          ]
        },
        {
          "metadata": {
            "tags": null
          },
          "name": "stderr",
          "output_type": "stream",
          "text": [
            "Downloading file 'S003/S003R03.edf' from 'https://physionet.org/files/eegmmidb/1.0.0/S003/S003R03.edf' to '/root/mne_data/MNE-eegbci-data/files/eegmmidb/1.0.0'.\n"
          ]
        },
        {
          "metadata": {
            "tags": null
          },
          "name": "stdout",
          "output_type": "stream",
          "text": [
            "Download complete in 08s (2.5 MB)\n",
            "EEG channel type selected for re-referencing\n",
            "Adding average EEG reference projection.\n",
            "1 projection items deactivated\n",
            "Average reference projection was added, but has not been applied yet. Use the apply_proj method to apply it.\n",
            "Created an SSP operator (subspace dimension = 1)\n",
            "1 projection items activated\n",
            "SSP projectors applied...\n",
            "NOTE: pick_types() is a legacy function. New code should use inst.pick(...).\n",
            "✅ Subject 3 Run 3: Loaded 15 epochs for class 2\n",
            "Downloading EEGBCI data\n"
          ]
        },
        {
          "metadata": {
            "tags": null
          },
          "name": "stderr",
          "output_type": "stream",
          "text": [
            "Downloading file 'S003/S003R07.edf' from 'https://physionet.org/files/eegmmidb/1.0.0/S003/S003R07.edf' to '/root/mne_data/MNE-eegbci-data/files/eegmmidb/1.0.0'.\n"
          ]
        },
        {
          "metadata": {
            "tags": null
          },
          "name": "stdout",
          "output_type": "stream",
          "text": [
            "Download complete in 07s (2.5 MB)\n",
            "EEG channel type selected for re-referencing\n",
            "Adding average EEG reference projection.\n",
            "1 projection items deactivated\n",
            "Average reference projection was added, but has not been applied yet. Use the apply_proj method to apply it.\n",
            "Created an SSP operator (subspace dimension = 1)\n",
            "1 projection items activated\n",
            "SSP projectors applied...\n",
            "NOTE: pick_types() is a legacy function. New code should use inst.pick(...).\n",
            "✅ Subject 3 Run 7: Loaded 15 epochs for class 2\n",
            "Downloading EEGBCI data\n"
          ]
        },
        {
          "metadata": {
            "tags": null
          },
          "name": "stderr",
          "output_type": "stream",
          "text": [
            "Downloading file 'S003/S003R11.edf' from 'https://physionet.org/files/eegmmidb/1.0.0/S003/S003R11.edf' to '/root/mne_data/MNE-eegbci-data/files/eegmmidb/1.0.0'.\n"
          ]
        },
        {
          "metadata": {
            "tags": null
          },
          "name": "stdout",
          "output_type": "stream",
          "text": [
            "Download complete in 07s (2.5 MB)\n",
            "EEG channel type selected for re-referencing\n",
            "Adding average EEG reference projection.\n",
            "1 projection items deactivated\n",
            "Average reference projection was added, but has not been applied yet. Use the apply_proj method to apply it.\n",
            "Created an SSP operator (subspace dimension = 1)\n",
            "1 projection items activated\n",
            "SSP projectors applied...\n",
            "NOTE: pick_types() is a legacy function. New code should use inst.pick(...).\n",
            "✅ Subject 3 Run 11: Loaded 15 epochs for class 2\n",
            "Downloading EEGBCI data\n"
          ]
        },
        {
          "metadata": {
            "tags": null
          },
          "name": "stderr",
          "output_type": "stream",
          "text": [
            "Downloading file 'S003/S003R04.edf' from 'https://physionet.org/files/eegmmidb/1.0.0/S003/S003R04.edf' to '/root/mne_data/MNE-eegbci-data/files/eegmmidb/1.0.0'.\n"
          ]
        },
        {
          "metadata": {
            "tags": null
          },
          "name": "stdout",
          "output_type": "stream",
          "text": [
            "Download complete in 08s (2.5 MB)\n",
            "EEG channel type selected for re-referencing\n",
            "Adding average EEG reference projection.\n",
            "1 projection items deactivated\n",
            "Average reference projection was added, but has not been applied yet. Use the apply_proj method to apply it.\n",
            "Created an SSP operator (subspace dimension = 1)\n",
            "1 projection items activated\n",
            "SSP projectors applied...\n",
            "NOTE: pick_types() is a legacy function. New code should use inst.pick(...).\n",
            "✅ Subject 3 Run 4: Loaded 15 epochs for class 3\n",
            "Downloading EEGBCI data\n"
          ]
        },
        {
          "metadata": {
            "tags": null
          },
          "name": "stderr",
          "output_type": "stream",
          "text": [
            "Downloading file 'S003/S003R08.edf' from 'https://physionet.org/files/eegmmidb/1.0.0/S003/S003R08.edf' to '/root/mne_data/MNE-eegbci-data/files/eegmmidb/1.0.0'.\n"
          ]
        },
        {
          "metadata": {
            "tags": null
          },
          "name": "stdout",
          "output_type": "stream",
          "text": [
            "Download complete in 07s (2.5 MB)\n",
            "EEG channel type selected for re-referencing\n",
            "Adding average EEG reference projection.\n",
            "1 projection items deactivated\n",
            "Average reference projection was added, but has not been applied yet. Use the apply_proj method to apply it.\n",
            "Created an SSP operator (subspace dimension = 1)\n",
            "1 projection items activated\n",
            "SSP projectors applied...\n",
            "NOTE: pick_types() is a legacy function. New code should use inst.pick(...).\n",
            "✅ Subject 3 Run 8: Loaded 15 epochs for class 3\n",
            "Downloading EEGBCI data\n"
          ]
        },
        {
          "metadata": {
            "tags": null
          },
          "name": "stderr",
          "output_type": "stream",
          "text": [
            "Downloading file 'S003/S003R12.edf' from 'https://physionet.org/files/eegmmidb/1.0.0/S003/S003R12.edf' to '/root/mne_data/MNE-eegbci-data/files/eegmmidb/1.0.0'.\n"
          ]
        },
        {
          "metadata": {
            "tags": null
          },
          "name": "stdout",
          "output_type": "stream",
          "text": [
            "Download complete in 07s (2.5 MB)\n",
            "EEG channel type selected for re-referencing\n",
            "Adding average EEG reference projection.\n",
            "1 projection items deactivated\n",
            "Average reference projection was added, but has not been applied yet. Use the apply_proj method to apply it.\n",
            "Created an SSP operator (subspace dimension = 1)\n",
            "1 projection items activated\n",
            "SSP projectors applied...\n",
            "NOTE: pick_types() is a legacy function. New code should use inst.pick(...).\n",
            "✅ Subject 3 Run 12: Loaded 15 epochs for class 3\n",
            "Downloading EEGBCI data\n"
          ]
        },
        {
          "metadata": {
            "tags": null
          },
          "name": "stderr",
          "output_type": "stream",
          "text": [
            "Downloading file 'S003/S003R05.edf' from 'https://physionet.org/files/eegmmidb/1.0.0/S003/S003R05.edf' to '/root/mne_data/MNE-eegbci-data/files/eegmmidb/1.0.0'.\n"
          ]
        },
        {
          "metadata": {
            "tags": null
          },
          "name": "stdout",
          "output_type": "stream",
          "text": [
            "Download complete in 07s (2.5 MB)\n",
            "EEG channel type selected for re-referencing\n",
            "Adding average EEG reference projection.\n",
            "1 projection items deactivated\n",
            "Average reference projection was added, but has not been applied yet. Use the apply_proj method to apply it.\n",
            "Created an SSP operator (subspace dimension = 1)\n",
            "1 projection items activated\n",
            "SSP projectors applied...\n",
            "NOTE: pick_types() is a legacy function. New code should use inst.pick(...).\n",
            "✅ Subject 3 Run 5: Loaded 15 epochs for class 4\n",
            "Downloading EEGBCI data\n"
          ]
        },
        {
          "metadata": {
            "tags": null
          },
          "name": "stderr",
          "output_type": "stream",
          "text": [
            "Downloading file 'S003/S003R09.edf' from 'https://physionet.org/files/eegmmidb/1.0.0/S003/S003R09.edf' to '/root/mne_data/MNE-eegbci-data/files/eegmmidb/1.0.0'.\n"
          ]
        },
        {
          "metadata": {
            "tags": null
          },
          "name": "stdout",
          "output_type": "stream",
          "text": [
            "Download complete in 08s (2.5 MB)\n",
            "EEG channel type selected for re-referencing\n",
            "Adding average EEG reference projection.\n",
            "1 projection items deactivated\n",
            "Average reference projection was added, but has not been applied yet. Use the apply_proj method to apply it.\n",
            "Created an SSP operator (subspace dimension = 1)\n",
            "1 projection items activated\n",
            "SSP projectors applied...\n",
            "NOTE: pick_types() is a legacy function. New code should use inst.pick(...).\n",
            "✅ Subject 3 Run 9: Loaded 15 epochs for class 4\n",
            "Downloading EEGBCI data\n"
          ]
        },
        {
          "metadata": {
            "tags": null
          },
          "name": "stderr",
          "output_type": "stream",
          "text": [
            "Downloading file 'S003/S003R13.edf' from 'https://physionet.org/files/eegmmidb/1.0.0/S003/S003R13.edf' to '/root/mne_data/MNE-eegbci-data/files/eegmmidb/1.0.0'.\n"
          ]
        },
        {
          "metadata": {
            "tags": null
          },
          "name": "stdout",
          "output_type": "stream",
          "text": [
            "Download complete in 07s (2.5 MB)\n",
            "EEG channel type selected for re-referencing\n",
            "Adding average EEG reference projection.\n",
            "1 projection items deactivated\n",
            "Average reference projection was added, but has not been applied yet. Use the apply_proj method to apply it.\n",
            "Created an SSP operator (subspace dimension = 1)\n",
            "1 projection items activated\n",
            "SSP projectors applied...\n",
            "NOTE: pick_types() is a legacy function. New code should use inst.pick(...).\n",
            "✅ Subject 3 Run 13: Loaded 15 epochs for class 4\n",
            "Downloading EEGBCI data\n"
          ]
        },
        {
          "metadata": {
            "tags": null
          },
          "name": "stderr",
          "output_type": "stream",
          "text": [
            "Downloading file 'S003/S003R06.edf' from 'https://physionet.org/files/eegmmidb/1.0.0/S003/S003R06.edf' to '/root/mne_data/MNE-eegbci-data/files/eegmmidb/1.0.0'.\n"
          ]
        },
        {
          "metadata": {
            "tags": null
          },
          "name": "stdout",
          "output_type": "stream",
          "text": [
            "Download complete in 08s (2.5 MB)\n",
            "EEG channel type selected for re-referencing\n",
            "Adding average EEG reference projection.\n",
            "1 projection items deactivated\n",
            "Average reference projection was added, but has not been applied yet. Use the apply_proj method to apply it.\n",
            "Created an SSP operator (subspace dimension = 1)\n",
            "1 projection items activated\n",
            "SSP projectors applied...\n",
            "NOTE: pick_types() is a legacy function. New code should use inst.pick(...).\n",
            "✅ Subject 3 Run 6: Loaded 15 epochs for class 5\n",
            "Downloading EEGBCI data\n"
          ]
        },
        {
          "metadata": {
            "tags": null
          },
          "name": "stderr",
          "output_type": "stream",
          "text": [
            "Downloading file 'S003/S003R10.edf' from 'https://physionet.org/files/eegmmidb/1.0.0/S003/S003R10.edf' to '/root/mne_data/MNE-eegbci-data/files/eegmmidb/1.0.0'.\n"
          ]
        },
        {
          "metadata": {
            "tags": null
          },
          "name": "stdout",
          "output_type": "stream",
          "text": [
            "Download complete in 07s (2.5 MB)\n",
            "EEG channel type selected for re-referencing\n",
            "Adding average EEG reference projection.\n",
            "1 projection items deactivated\n",
            "Average reference projection was added, but has not been applied yet. Use the apply_proj method to apply it.\n",
            "Created an SSP operator (subspace dimension = 1)\n",
            "1 projection items activated\n",
            "SSP projectors applied...\n",
            "NOTE: pick_types() is a legacy function. New code should use inst.pick(...).\n",
            "✅ Subject 3 Run 10: Loaded 15 epochs for class 5\n",
            "Downloading EEGBCI data\n"
          ]
        },
        {
          "metadata": {
            "tags": null
          },
          "name": "stderr",
          "output_type": "stream",
          "text": [
            "Downloading file 'S003/S003R14.edf' from 'https://physionet.org/files/eegmmidb/1.0.0/S003/S003R14.edf' to '/root/mne_data/MNE-eegbci-data/files/eegmmidb/1.0.0'.\n"
          ]
        },
        {
          "output_type": "stream",
          "name": "stdout",
          "text": [
            "Download complete in 08s (2.5 MB)\n",
            "EEG channel type selected for re-referencing\n",
            "Adding average EEG reference projection.\n",
            "1 projection items deactivated\n",
            "Average reference projection was added, but has not been applied yet. Use the apply_proj method to apply it.\n",
            "Created an SSP operator (subspace dimension = 1)\n",
            "1 projection items activated\n",
            "SSP projectors applied...\n",
            "NOTE: pick_types() is a legacy function. New code should use inst.pick(...).\n",
            "✅ Subject 3 Run 14: Loaded 15 epochs for class 5\n",
            "\n",
            "--- Epoch Counts Per Subject Per Class ---\n",
            "Subject 1: {0: 23, 1: 23, 2: 45, 3: 45, 4: 45, 5: 45}\n",
            "Subject 2: {0: 23, 1: 23, 2: 45, 3: 45, 4: 45, 5: 45}\n",
            "Subject 3: {0: 23, 1: 23, 2: 45, 3: 45, 4: 45, 5: 45}\n",
            "----------------------------------------\n",
            "Loaded shape: X=(678, 64, 401, 1), y=(678,) - Label counts: [ 69  69 135 135 135 135]\n",
            "Epoch 1/150\n",
            "17/17 - 26s - 2s/step - accuracy: 0.1531 - loss: 1.8230 - val_accuracy: 0.2426 - val_loss: 1.7726\n",
            "Epoch 2/150\n",
            "17/17 - 21s - 1s/step - accuracy: 0.2638 - loss: 1.7070 - val_accuracy: 0.2574 - val_loss: 1.7482\n",
            "Epoch 3/150\n",
            "17/17 - 42s - 2s/step - accuracy: 0.2952 - loss: 1.6295 - val_accuracy: 0.3162 - val_loss: 1.7138\n",
            "Epoch 4/150\n",
            "17/17 - 41s - 2s/step - accuracy: 0.3247 - loss: 1.5646 - val_accuracy: 0.3382 - val_loss: 1.6814\n",
            "Epoch 5/150\n",
            "17/17 - 22s - 1s/step - accuracy: 0.3303 - loss: 1.5439 - val_accuracy: 0.2574 - val_loss: 1.6523\n",
            "Epoch 6/150\n",
            "17/17 - 41s - 2s/step - accuracy: 0.3210 - loss: 1.5013 - val_accuracy: 0.3015 - val_loss: 1.6238\n",
            "Epoch 7/150\n",
            "17/17 - 40s - 2s/step - accuracy: 0.3579 - loss: 1.4573 - val_accuracy: 0.2941 - val_loss: 1.5926\n",
            "Epoch 8/150\n",
            "17/17 - 40s - 2s/step - accuracy: 0.3782 - loss: 1.4191 - val_accuracy: 0.3676 - val_loss: 1.5655\n",
            "Epoch 9/150\n",
            "17/17 - 42s - 2s/step - accuracy: 0.4280 - loss: 1.3533 - val_accuracy: 0.3456 - val_loss: 1.5375\n",
            "Epoch 10/150\n",
            "17/17 - 41s - 2s/step - accuracy: 0.4262 - loss: 1.3342 - val_accuracy: 0.3382 - val_loss: 1.5149\n",
            "Epoch 11/150\n",
            "17/17 - 39s - 2s/step - accuracy: 0.4262 - loss: 1.2943 - val_accuracy: 0.3456 - val_loss: 1.4766\n",
            "Epoch 12/150\n",
            "17/17 - 42s - 2s/step - accuracy: 0.4576 - loss: 1.2464 - val_accuracy: 0.3824 - val_loss: 1.4282\n",
            "Epoch 13/150\n",
            "17/17 - 21s - 1s/step - accuracy: 0.4410 - loss: 1.2498 - val_accuracy: 0.3897 - val_loss: 1.3950\n",
            "Epoch 14/150\n",
            "17/17 - 22s - 1s/step - accuracy: 0.4631 - loss: 1.2184 - val_accuracy: 0.4118 - val_loss: 1.3782\n",
            "Epoch 15/150\n",
            "17/17 - 39s - 2s/step - accuracy: 0.4428 - loss: 1.2179 - val_accuracy: 0.4338 - val_loss: 1.3416\n",
            "Epoch 16/150\n",
            "17/17 - 42s - 2s/step - accuracy: 0.4945 - loss: 1.2252 - val_accuracy: 0.4412 - val_loss: 1.3395\n",
            "Epoch 17/150\n",
            "17/17 - 41s - 2s/step - accuracy: 0.5037 - loss: 1.1591 - val_accuracy: 0.4632 - val_loss: 1.3198\n",
            "Epoch 18/150\n",
            "17/17 - 22s - 1s/step - accuracy: 0.5055 - loss: 1.1717 - val_accuracy: 0.4706 - val_loss: 1.2978\n",
            "Epoch 19/150\n",
            "17/17 - 42s - 2s/step - accuracy: 0.5406 - loss: 1.0953 - val_accuracy: 0.4559 - val_loss: 1.3014\n",
            "Epoch 20/150\n",
            "17/17 - 41s - 2s/step - accuracy: 0.5646 - loss: 1.0393 - val_accuracy: 0.4853 - val_loss: 1.2526\n",
            "Epoch 21/150\n",
            "17/17 - 39s - 2s/step - accuracy: 0.5535 - loss: 1.0666 - val_accuracy: 0.4779 - val_loss: 1.2312\n",
            "Epoch 22/150\n",
            "17/17 - 42s - 2s/step - accuracy: 0.5701 - loss: 1.0445 - val_accuracy: 0.4632 - val_loss: 1.2387\n",
            "Epoch 23/150\n",
            "17/17 - 42s - 2s/step - accuracy: 0.6476 - loss: 0.9145 - val_accuracy: 0.4632 - val_loss: 1.2069\n",
            "Epoch 24/150\n",
            "17/17 - 40s - 2s/step - accuracy: 0.6125 - loss: 0.9431 - val_accuracy: 0.5000 - val_loss: 1.1834\n",
            "Epoch 25/150\n",
            "17/17 - 42s - 2s/step - accuracy: 0.6218 - loss: 0.8991 - val_accuracy: 0.5294 - val_loss: 1.1106\n",
            "Epoch 26/150\n",
            "17/17 - 41s - 2s/step - accuracy: 0.6144 - loss: 0.8976 - val_accuracy: 0.5147 - val_loss: 1.1016\n",
            "Epoch 27/150\n",
            "17/17 - 40s - 2s/step - accuracy: 0.6347 - loss: 0.8703 - val_accuracy: 0.5294 - val_loss: 1.1052\n",
            "Epoch 28/150\n",
            "17/17 - 42s - 2s/step - accuracy: 0.7066 - loss: 0.7966 - val_accuracy: 0.5221 - val_loss: 1.0726\n",
            "Epoch 29/150\n",
            "17/17 - 41s - 2s/step - accuracy: 0.6661 - loss: 0.7950 - val_accuracy: 0.5368 - val_loss: 1.0367\n",
            "Epoch 30/150\n",
            "17/17 - 23s - 1s/step - accuracy: 0.6734 - loss: 0.8029 - val_accuracy: 0.5515 - val_loss: 1.0168\n",
            "Epoch 31/150\n",
            "17/17 - 41s - 2s/step - accuracy: 0.6956 - loss: 0.7712 - val_accuracy: 0.5221 - val_loss: 1.0420\n",
            "Epoch 32/150\n",
            "17/17 - 41s - 2s/step - accuracy: 0.6919 - loss: 0.7414 - val_accuracy: 0.5588 - val_loss: 1.0287\n",
            "Epoch 33/150\n",
            "17/17 - 40s - 2s/step - accuracy: 0.7214 - loss: 0.7048 - val_accuracy: 0.5735 - val_loss: 1.0479\n",
            "Epoch 34/150\n",
            "17/17 - 42s - 2s/step - accuracy: 0.7232 - loss: 0.7523 - val_accuracy: 0.5441 - val_loss: 1.0137\n",
            "Epoch 35/150\n",
            "17/17 - 41s - 2s/step - accuracy: 0.7048 - loss: 0.6818 - val_accuracy: 0.5735 - val_loss: 0.9905\n",
            "Epoch 36/150\n",
            "17/17 - 23s - 1s/step - accuracy: 0.7048 - loss: 0.6857 - val_accuracy: 0.6029 - val_loss: 0.9606\n",
            "Epoch 37/150\n",
            "17/17 - 41s - 2s/step - accuracy: 0.6974 - loss: 0.7208 - val_accuracy: 0.5735 - val_loss: 0.9440\n",
            "Epoch 38/150\n",
            "17/17 - 22s - 1s/step - accuracy: 0.7472 - loss: 0.6539 - val_accuracy: 0.5882 - val_loss: 0.9664\n",
            "Epoch 39/150\n",
            "17/17 - 41s - 2s/step - accuracy: 0.7583 - loss: 0.6151 - val_accuracy: 0.6324 - val_loss: 0.9484\n",
            "Epoch 40/150\n",
            "17/17 - 41s - 2s/step - accuracy: 0.7214 - loss: 0.6975 - val_accuracy: 0.5956 - val_loss: 0.9687\n",
            "Epoch 41/150\n",
            "17/17 - 40s - 2s/step - accuracy: 0.7325 - loss: 0.6553 - val_accuracy: 0.6103 - val_loss: 0.9757\n",
            "Epoch 42/150\n",
            "17/17 - 42s - 2s/step - accuracy: 0.7694 - loss: 0.6069 - val_accuracy: 0.6029 - val_loss: 0.9653\n",
            "Epoch 43/150\n",
            "17/17 - 41s - 2s/step - accuracy: 0.7620 - loss: 0.6082 - val_accuracy: 0.6029 - val_loss: 0.9650\n",
            "Epoch 44/150\n",
            "17/17 - 23s - 1s/step - accuracy: 0.7675 - loss: 0.6334 - val_accuracy: 0.5882 - val_loss: 0.9716\n",
            "Epoch 45/150\n",
            "17/17 - 41s - 2s/step - accuracy: 0.7823 - loss: 0.6071 - val_accuracy: 0.5956 - val_loss: 0.9920\n",
            "Epoch 46/150\n",
            "17/17 - 24s - 1s/step - accuracy: 0.8007 - loss: 0.5298 - val_accuracy: 0.5882 - val_loss: 1.0000\n",
            "Epoch 47/150\n",
            "17/17 - 21s - 1s/step - accuracy: 0.8007 - loss: 0.5217 - val_accuracy: 0.5882 - val_loss: 0.9939\n",
            "Epoch 48/150\n",
            "17/17 - 42s - 2s/step - accuracy: 0.7915 - loss: 0.5260 - val_accuracy: 0.5882 - val_loss: 0.9926\n",
            "Epoch 49/150\n",
            "17/17 - 41s - 2s/step - accuracy: 0.7675 - loss: 0.5774 - val_accuracy: 0.6324 - val_loss: 1.0036\n",
            "Epoch 50/150\n",
            "17/17 - 39s - 2s/step - accuracy: 0.7638 - loss: 0.5785 - val_accuracy: 0.6029 - val_loss: 1.0155\n",
            "Epoch 51/150\n",
            "17/17 - 22s - 1s/step - accuracy: 0.7841 - loss: 0.5082 - val_accuracy: 0.5809 - val_loss: 1.0134\n",
            "Epoch 52/150\n",
            "17/17 - 40s - 2s/step - accuracy: 0.8118 - loss: 0.5242 - val_accuracy: 0.6176 - val_loss: 1.0372\n",
            "Epoch 53/150\n",
            "17/17 - 43s - 3s/step - accuracy: 0.7915 - loss: 0.5463 - val_accuracy: 0.5956 - val_loss: 1.0390\n",
            "Epoch 54/150\n",
            "17/17 - 40s - 2s/step - accuracy: 0.7897 - loss: 0.5497 - val_accuracy: 0.6029 - val_loss: 1.0503\n",
            "Epoch 55/150\n",
            "17/17 - 41s - 2s/step - accuracy: 0.8247 - loss: 0.4808 - val_accuracy: 0.5735 - val_loss: 1.0352\n",
            "Epoch 56/150\n",
            "17/17 - 22s - 1s/step - accuracy: 0.8321 - loss: 0.4824 - val_accuracy: 0.6103 - val_loss: 1.0316\n",
            "Epoch 57/150\n",
            "17/17 - 41s - 2s/step - accuracy: 0.7860 - loss: 0.5479 - val_accuracy: 0.6103 - val_loss: 1.0358\n",
            "Epoch 58/150\n",
            "17/17 - 39s - 2s/step - accuracy: 0.8137 - loss: 0.4946 - val_accuracy: 0.6029 - val_loss: 1.0408\n",
            "Epoch 59/150\n",
            "17/17 - 22s - 1s/step - accuracy: 0.8063 - loss: 0.4731 - val_accuracy: 0.6176 - val_loss: 1.0014\n",
            "Epoch 60/150\n",
            "17/17 - 23s - 1s/step - accuracy: 0.8303 - loss: 0.4432 - val_accuracy: 0.6471 - val_loss: 1.0612\n",
            "Epoch 61/150\n",
            "17/17 - 40s - 2s/step - accuracy: 0.8247 - loss: 0.4410 - val_accuracy: 0.6397 - val_loss: 1.0343\n",
            "Epoch 62/150\n",
            "17/17 - 22s - 1s/step - accuracy: 0.8173 - loss: 0.4221 - val_accuracy: 0.6103 - val_loss: 1.0497\n",
            "Epoch 63/150\n",
            "17/17 - 41s - 2s/step - accuracy: 0.8376 - loss: 0.4275 - val_accuracy: 0.6103 - val_loss: 1.1135\n",
            "Epoch 64/150\n",
            "17/17 - 41s - 2s/step - accuracy: 0.8266 - loss: 0.4388 - val_accuracy: 0.5956 - val_loss: 1.1075\n",
            "Epoch 65/150\n",
            "17/17 - 22s - 1s/step - accuracy: 0.8450 - loss: 0.3888 - val_accuracy: 0.6397 - val_loss: 1.1377\n",
            "Epoch 66/150\n",
            "17/17 - 41s - 2s/step - accuracy: 0.8303 - loss: 0.4327 - val_accuracy: 0.6397 - val_loss: 1.1111\n",
            "Epoch 67/150\n",
            "17/17 - 40s - 2s/step - accuracy: 0.8579 - loss: 0.4007 - val_accuracy: 0.6176 - val_loss: 1.0978\n",
            "Epoch 68/150\n",
            "17/17 - 42s - 2s/step - accuracy: 0.8506 - loss: 0.4145 - val_accuracy: 0.6324 - val_loss: 1.0414\n",
            "Epoch 69/150\n",
            "17/17 - 21s - 1s/step - accuracy: 0.8321 - loss: 0.4353 - val_accuracy: 0.6250 - val_loss: 1.1682\n",
            "Epoch 70/150\n",
            "17/17 - 42s - 2s/step - accuracy: 0.8635 - loss: 0.3824 - val_accuracy: 0.6397 - val_loss: 1.1590\n",
            "Epoch 71/150\n",
            "17/17 - 41s - 2s/step - accuracy: 0.8616 - loss: 0.3511 - val_accuracy: 0.6471 - val_loss: 1.0549\n",
            "Epoch 72/150\n",
            "17/17 - 40s - 2s/step - accuracy: 0.8506 - loss: 0.3714 - val_accuracy: 0.6471 - val_loss: 1.0857\n",
            "Epoch 73/150\n",
            "17/17 - 43s - 3s/step - accuracy: 0.8561 - loss: 0.3549 - val_accuracy: 0.6471 - val_loss: 0.9984\n",
            "Epoch 74/150\n",
            "17/17 - 41s - 2s/step - accuracy: 0.8579 - loss: 0.3593 - val_accuracy: 0.6324 - val_loss: 1.0962\n",
            "Epoch 75/150\n",
            "17/17 - 40s - 2s/step - accuracy: 0.8764 - loss: 0.3298 - val_accuracy: 0.6691 - val_loss: 1.1108\n",
            "Epoch 76/150\n",
            "17/17 - 43s - 3s/step - accuracy: 0.8432 - loss: 0.3748 - val_accuracy: 0.6397 - val_loss: 1.1101\n",
            "Epoch 77/150\n",
            "17/17 - 41s - 2s/step - accuracy: 0.8524 - loss: 0.3765 - val_accuracy: 0.6176 - val_loss: 1.1712\n",
            "Epoch 78/150\n",
            "17/17 - 41s - 2s/step - accuracy: 0.8727 - loss: 0.3261 - val_accuracy: 0.6029 - val_loss: 1.1806\n",
            "Epoch 79/150\n",
            "17/17 - 40s - 2s/step - accuracy: 0.8838 - loss: 0.3170 - val_accuracy: 0.6397 - val_loss: 1.1386\n",
            "Epoch 80/150\n",
            "17/17 - 42s - 2s/step - accuracy: 0.8985 - loss: 0.2835 - val_accuracy: 0.5956 - val_loss: 1.1706\n",
            "Epoch 81/150\n",
            "17/17 - 41s - 2s/step - accuracy: 0.8708 - loss: 0.3557 - val_accuracy: 0.6397 - val_loss: 1.0766\n",
            "Epoch 82/150\n",
            "17/17 - 22s - 1s/step - accuracy: 0.8672 - loss: 0.3402 - val_accuracy: 0.6618 - val_loss: 1.0986\n",
            "Epoch 83/150\n",
            "17/17 - 41s - 2s/step - accuracy: 0.8948 - loss: 0.3049 - val_accuracy: 0.6618 - val_loss: 1.1080\n",
            "Epoch 84/150\n",
            "17/17 - 23s - 1s/step - accuracy: 0.8875 - loss: 0.3172 - val_accuracy: 0.6618 - val_loss: 1.0856\n",
            "Epoch 85/150\n",
            "17/17 - 21s - 1s/step - accuracy: 0.8930 - loss: 0.3009 - val_accuracy: 0.6838 - val_loss: 1.1147\n",
            "Epoch 86/150\n",
            "17/17 - 42s - 2s/step - accuracy: 0.8782 - loss: 0.3276 - val_accuracy: 0.6471 - val_loss: 1.1857\n",
            "Epoch 87/150\n",
            "17/17 - 21s - 1s/step - accuracy: 0.8911 - loss: 0.2997 - val_accuracy: 0.6397 - val_loss: 1.2258\n",
            "Epoch 88/150\n",
            "17/17 - 42s - 2s/step - accuracy: 0.8911 - loss: 0.2951 - val_accuracy: 0.6397 - val_loss: 1.1246\n",
            "Epoch 89/150\n",
            "17/17 - 41s - 2s/step - accuracy: 0.9022 - loss: 0.2695 - val_accuracy: 0.6765 - val_loss: 1.0815\n",
            "Epoch 90/150\n",
            "17/17 - 40s - 2s/step - accuracy: 0.8985 - loss: 0.2725 - val_accuracy: 0.6544 - val_loss: 1.1513\n",
            "Epoch 91/150\n",
            "17/17 - 43s - 3s/step - accuracy: 0.9077 - loss: 0.2467 - val_accuracy: 0.6618 - val_loss: 1.1604\n",
            "Epoch 92/150\n",
            "17/17 - 40s - 2s/step - accuracy: 0.8801 - loss: 0.2894 - val_accuracy: 0.6618 - val_loss: 1.2129\n",
            "Epoch 93/150\n",
            "17/17 - 41s - 2s/step - accuracy: 0.8985 - loss: 0.2723 - val_accuracy: 0.6838 - val_loss: 1.2075\n",
            "Epoch 94/150\n",
            "17/17 - 40s - 2s/step - accuracy: 0.8801 - loss: 0.2974 - val_accuracy: 0.6765 - val_loss: 1.2250\n",
            "Epoch 95/150\n",
            "17/17 - 22s - 1s/step - accuracy: 0.9244 - loss: 0.2327 - val_accuracy: 0.6471 - val_loss: 1.2315\n",
            "Epoch 96/150\n",
            "17/17 - 40s - 2s/step - accuracy: 0.9151 - loss: 0.2328 - val_accuracy: 0.6838 - val_loss: 1.2116\n",
            "Epoch 97/150\n",
            "17/17 - 42s - 2s/step - accuracy: 0.8893 - loss: 0.2929 - val_accuracy: 0.6544 - val_loss: 1.2201\n",
            "Epoch 98/150\n",
            "17/17 - 41s - 2s/step - accuracy: 0.9096 - loss: 0.2317 - val_accuracy: 0.6618 - val_loss: 1.2063\n",
            "Epoch 99/150\n",
            "17/17 - 40s - 2s/step - accuracy: 0.9170 - loss: 0.2211 - val_accuracy: 0.6618 - val_loss: 1.2422\n",
            "Epoch 100/150\n",
            "17/17 - 42s - 2s/step - accuracy: 0.9151 - loss: 0.2451 - val_accuracy: 0.6250 - val_loss: 1.2569\n",
            "Epoch 101/150\n",
            "17/17 - 41s - 2s/step - accuracy: 0.9059 - loss: 0.2611 - val_accuracy: 0.6397 - val_loss: 1.2063\n",
            "Epoch 102/150\n",
            "17/17 - 23s - 1s/step - accuracy: 0.9114 - loss: 0.2292 - val_accuracy: 0.6397 - val_loss: 1.1323\n",
            "Epoch 103/150\n",
            "17/17 - 40s - 2s/step - accuracy: 0.9188 - loss: 0.2243 - val_accuracy: 0.6765 - val_loss: 1.1171\n",
            "Epoch 104/150\n",
            "17/17 - 41s - 2s/step - accuracy: 0.8985 - loss: 0.2578 - val_accuracy: 0.6691 - val_loss: 1.1364\n",
            "Epoch 105/150\n",
            "17/17 - 22s - 1s/step - accuracy: 0.9133 - loss: 0.2545 - val_accuracy: 0.6176 - val_loss: 1.1721\n",
            "Epoch 106/150\n",
            "17/17 - 21s - 1s/step - accuracy: 0.9114 - loss: 0.2238 - val_accuracy: 0.6691 - val_loss: 1.1198\n",
            "Epoch 107/150\n",
            "17/17 - 42s - 2s/step - accuracy: 0.9262 - loss: 0.2183 - val_accuracy: 0.6912 - val_loss: 1.0872\n",
            "Epoch 108/150\n",
            "17/17 - 21s - 1s/step - accuracy: 0.9225 - loss: 0.2117 - val_accuracy: 0.6912 - val_loss: 1.1165\n",
            "Epoch 109/150\n",
            "17/17 - 42s - 2s/step - accuracy: 0.9428 - loss: 0.1918 - val_accuracy: 0.6618 - val_loss: 1.1554\n",
            "Epoch 110/150\n",
            "17/17 - 40s - 2s/step - accuracy: 0.9188 - loss: 0.2298 - val_accuracy: 0.6618 - val_loss: 1.1998\n",
            "Epoch 111/150\n",
            "17/17 - 40s - 2s/step - accuracy: 0.9170 - loss: 0.2624 - val_accuracy: 0.6250 - val_loss: 1.2011\n",
            "Epoch 112/150\n",
            "17/17 - 42s - 2s/step - accuracy: 0.9244 - loss: 0.2006 - val_accuracy: 0.6618 - val_loss: 1.2343\n",
            "Epoch 113/150\n",
            "17/17 - 21s - 1s/step - accuracy: 0.9151 - loss: 0.2488 - val_accuracy: 0.6397 - val_loss: 1.2923\n",
            "Epoch 114/150\n",
            "17/17 - 43s - 3s/step - accuracy: 0.8967 - loss: 0.2502 - val_accuracy: 0.6544 - val_loss: 1.1832\n",
            "Epoch 115/150\n",
            "17/17 - 41s - 2s/step - accuracy: 0.9391 - loss: 0.1867 - val_accuracy: 0.6765 - val_loss: 1.1795\n",
            "Epoch 116/150\n",
            "17/17 - 40s - 2s/step - accuracy: 0.9244 - loss: 0.1976 - val_accuracy: 0.6324 - val_loss: 1.1984\n",
            "Epoch 117/150\n",
            "17/17 - 42s - 2s/step - accuracy: 0.9262 - loss: 0.1997 - val_accuracy: 0.6544 - val_loss: 1.2940\n",
            "Epoch 118/150\n",
            "17/17 - 41s - 2s/step - accuracy: 0.9188 - loss: 0.2378 - val_accuracy: 0.6765 - val_loss: 1.3208\n",
            "Epoch 119/150\n",
            "17/17 - 40s - 2s/step - accuracy: 0.9188 - loss: 0.2222 - val_accuracy: 0.6397 - val_loss: 1.2574\n",
            "Epoch 120/150\n",
            "17/17 - 43s - 3s/step - accuracy: 0.9133 - loss: 0.2497 - val_accuracy: 0.6397 - val_loss: 1.3127\n",
            "Epoch 121/150\n",
            "17/17 - 40s - 2s/step - accuracy: 0.9170 - loss: 0.2265 - val_accuracy: 0.6397 - val_loss: 1.2426\n",
            "Epoch 122/150\n",
            "17/17 - 41s - 2s/step - accuracy: 0.9391 - loss: 0.1716 - val_accuracy: 0.6765 - val_loss: 1.2132\n",
            "Epoch 123/150\n",
            "17/17 - 40s - 2s/step - accuracy: 0.9280 - loss: 0.1802 - val_accuracy: 0.6397 - val_loss: 1.2538\n",
            "Epoch 124/150\n",
            "17/17 - 42s - 2s/step - accuracy: 0.9373 - loss: 0.1696 - val_accuracy: 0.6176 - val_loss: 1.3165\n",
            "Epoch 125/150\n",
            "17/17 - 40s - 2s/step - accuracy: 0.9114 - loss: 0.2164 - val_accuracy: 0.6397 - val_loss: 1.2912\n",
            "Epoch 126/150\n",
            "17/17 - 40s - 2s/step - accuracy: 0.9336 - loss: 0.1727 - val_accuracy: 0.6838 - val_loss: 1.1629\n",
            "Epoch 127/150\n",
            "17/17 - 42s - 2s/step - accuracy: 0.9410 - loss: 0.1862 - val_accuracy: 0.6765 - val_loss: 1.1703\n",
            "Epoch 128/150\n",
            "17/17 - 41s - 2s/step - accuracy: 0.9428 - loss: 0.1689 - val_accuracy: 0.6765 - val_loss: 1.2534\n",
            "Epoch 129/150\n",
            "17/17 - 23s - 1s/step - accuracy: 0.9391 - loss: 0.1613 - val_accuracy: 0.6765 - val_loss: 1.2127\n",
            "Epoch 130/150\n",
            "17/17 - 40s - 2s/step - accuracy: 0.9262 - loss: 0.1827 - val_accuracy: 0.6765 - val_loss: 1.2294\n",
            "Epoch 131/150\n",
            "17/17 - 41s - 2s/step - accuracy: 0.9280 - loss: 0.1877 - val_accuracy: 0.6765 - val_loss: 1.2546\n",
            "Epoch 132/150\n",
            "17/17 - 39s - 2s/step - accuracy: 0.9502 - loss: 0.1526 - val_accuracy: 0.6397 - val_loss: 1.2304\n",
            "Epoch 133/150\n",
            "17/17 - 42s - 2s/step - accuracy: 0.9391 - loss: 0.1720 - val_accuracy: 0.6544 - val_loss: 1.2454\n",
            "Epoch 134/150\n",
            "17/17 - 21s - 1s/step - accuracy: 0.9336 - loss: 0.1953 - val_accuracy: 0.6838 - val_loss: 1.2606\n",
            "Epoch 135/150\n",
            "17/17 - 42s - 2s/step - accuracy: 0.9373 - loss: 0.1996 - val_accuracy: 0.7132 - val_loss: 1.2055\n",
            "Epoch 136/150\n",
            "17/17 - 41s - 2s/step - accuracy: 0.9244 - loss: 0.1951 - val_accuracy: 0.6765 - val_loss: 1.2304\n",
            "Epoch 137/150\n",
            "17/17 - 40s - 2s/step - accuracy: 0.9188 - loss: 0.2168 - val_accuracy: 0.6838 - val_loss: 1.2327\n",
            "Epoch 138/150\n",
            "17/17 - 42s - 2s/step - accuracy: 0.9317 - loss: 0.1756 - val_accuracy: 0.6691 - val_loss: 1.2872\n",
            "Epoch 139/150\n",
            "17/17 - 41s - 2s/step - accuracy: 0.9373 - loss: 0.1880 - val_accuracy: 0.6471 - val_loss: 1.2817\n",
            "Epoch 140/150\n",
            "17/17 - 22s - 1s/step - accuracy: 0.9373 - loss: 0.1572 - val_accuracy: 0.6324 - val_loss: 1.2915\n",
            "Epoch 141/150\n",
            "17/17 - 41s - 2s/step - accuracy: 0.9539 - loss: 0.1626 - val_accuracy: 0.6324 - val_loss: 1.2611\n",
            "Epoch 142/150\n",
            "17/17 - 40s - 2s/step - accuracy: 0.9594 - loss: 0.1262 - val_accuracy: 0.6544 - val_loss: 1.2858\n",
            "Epoch 143/150\n",
            "17/17 - 43s - 3s/step - accuracy: 0.9446 - loss: 0.1467 - val_accuracy: 0.6691 - val_loss: 1.2395\n",
            "Epoch 144/150\n",
            "17/17 - 40s - 2s/step - accuracy: 0.9262 - loss: 0.1633 - val_accuracy: 0.6397 - val_loss: 1.2966\n",
            "Epoch 145/150\n",
            "17/17 - 22s - 1s/step - accuracy: 0.9336 - loss: 0.1789 - val_accuracy: 0.6471 - val_loss: 1.2943\n",
            "Epoch 146/150\n",
            "17/17 - 41s - 2s/step - accuracy: 0.9502 - loss: 0.1324 - val_accuracy: 0.6324 - val_loss: 1.3710\n",
            "Epoch 147/150\n",
            "17/17 - 23s - 1s/step - accuracy: 0.9520 - loss: 0.1485 - val_accuracy: 0.6397 - val_loss: 1.4229\n",
            "Epoch 148/150\n",
            "17/17 - 40s - 2s/step - accuracy: 0.9317 - loss: 0.1980 - val_accuracy: 0.6765 - val_loss: 1.3000\n",
            "Epoch 149/150\n",
            "17/17 - 21s - 1s/step - accuracy: 0.9410 - loss: 0.1798 - val_accuracy: 0.6397 - val_loss: 1.3095\n",
            "Epoch 150/150\n",
            "17/17 - 22s - 1s/step - accuracy: 0.9244 - loss: 0.1856 - val_accuracy: 0.6471 - val_loss: 1.2688\n",
            "\u001b[1m5/5\u001b[0m \u001b[32m━━━━━━━━━━━━━━━━━━━━\u001b[0m\u001b[37m\u001b[0m \u001b[1m1s\u001b[0m 191ms/step - accuracy: 0.6549 - loss: 1.1260\n",
            "Test Accuracy: 0.6471\n",
            "\u001b[1m5/5\u001b[0m \u001b[32m━━━━━━━━━━━━━━━━━━━━\u001b[0m\u001b[37m\u001b[0m \u001b[1m1s\u001b[0m 210ms/step\n",
            "\n",
            "Classification Report:\n",
            "                     precision    recall  f1-score   support\n",
            "\n",
            "      Baseline Open       0.65      0.93      0.76        14\n",
            "    Baseline Closed       1.00      0.71      0.83        14\n",
            "         Real Hands       0.67      0.67      0.67        27\n",
            "     Imagined Hands       0.62      0.74      0.68        27\n",
            "    Real Fists/Feet       0.64      0.52      0.57        27\n",
            "Imagined Fists/Feet       0.52      0.48      0.50        27\n",
            "\n",
            "           accuracy                           0.65       136\n",
            "          macro avg       0.68      0.68      0.67       136\n",
            "       weighted avg       0.66      0.65      0.64       136\n",
            "\n"
          ]
        },
        {
          "output_type": "display_data",
          "data": {
            "text/plain": [
              "<Figure size 1200x400 with 2 Axes>"
            ],
            "image/png": "[encoded data removed]"
          },
          "metadata": {}
        },
        {
          "output_type": "display_data",
          "data": {
            "text/plain": [
              "<Figure size 640x480 with 2 Axes>"
            ],
            "image/png": "[encoded data removed]"
          },
          "metadata": {}
        }
      ]
    }
  ]
}